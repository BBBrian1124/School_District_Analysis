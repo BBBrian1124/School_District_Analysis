{
 "cells": [
  {
   "cell_type": "code",
   "execution_count": null,
   "metadata": {},
   "outputs": [],
   "source": [
    "# def is used to create a fucntion named \"say_hello\" (with no paramaters) with the code block following the :\n",
    "# Define the function \"say_hello\" so it prints \"Hello!\" when called.\n",
    "def say_hello():\n",
    "    print(\"Hello!\")\n",
    "\n",
    "# Define the function \"say_something\" with the paramater/variable (something) : indicating to print the variable \n",
    "def say_something(something):\n",
    "    print(something)\n",
    "\n",
    "# Call the function, say_hello() does not expect a variable/paramater but say_something() does\n",
    "say_hello()\n",
    "say_something(\"We are entering our paramater/variable for the function to run\")"
   ]
  },
  {
   "cell_type": "code",
   "execution_count": null,
   "metadata": {},
   "outputs": [],
   "source": [
    "# Define a function that calculates the percentage of students that passed both # math and reading \n",
    "# We give the function 2 variables, and say take the variable A / variable B * 100 \n",
    "def passing_math_percent(pass_math_count, student_count):\n",
    "    return pass_math_count / float(student_count) * 100\n",
    "# return causes the function to end and literally \"returns\" what is in front of the statement (i.e. the function) back to caller\n",
    "# assign values to the variables in the function, otherwise we will get an error since the variables have no value\n",
    "passing_math_count = 29370\n",
    "total_student_count = 39170\n",
    "\n",
    "# Call the function.\n",
    "passing_math_percent(passing_math_count, total_student_count)"
   ]
  },
  {
   "cell_type": "code",
   "execution_count": null,
   "metadata": {},
   "outputs": [],
   "source": [
    "# Create a list\n",
    "raptors_starting_five = [\"Lowry\", \"FVV\" ,\"Kawhi\", \"Pascal\", \"Marc\" ]\n",
    "\n",
    "# Import pandas and convert the list to a series \n",
    "import pandas as pd \n",
    "last_raptors_starting_five = pd.Series(raptors_starting_five)\n",
    "print(last_raptors_starting_five)\n",
    "\n",
    "# The map function replaces a value, with a new value \n",
    "curr_raptors_starting_five = last_raptors_starting_five.map({\"Lowry\":\"FVV\",\"FVV\":\"Norm\",\"Kawhi\":\"OG\",\"Pascal\":\"SpicyP\",\"Marc\":\"Baynes\"})\n",
    "print(curr_raptors_starting_five)"
   ]
  },
  {
   "cell_type": "code",
   "execution_count": 1,
   "metadata": {},
   "outputs": [
    {
     "name": "stdout",
     "output_type": "stream",
     "text": [
      "92\n",
      "85\n",
      "87\n",
      "98\n"
     ]
    }
   ],
   "source": [
    "# Using the Python format() function we will reformat this list\n",
    "my_grades = [92.34, 84.56, 86.78, 98.32]\n",
    "\n",
    "# the function syntax is like so: \"{value:format specification}\".format(value)\n",
    "# here we loop through my_grades and define the format specificaition as to the nearest whole decimal, and to format (grade)\n",
    "for grade in my_grades:\n",
    "    print(\"{:.0f}\".format(grade))"
   ]
  },
  {
   "cell_type": "code",
   "execution_count": 3,
   "metadata": {},
   "outputs": [
    {
     "data": {
      "text/plain": [
       "0    92\n",
       "1    85\n",
       "2    87\n",
       "3    78\n",
       "dtype: object"
      ]
     },
     "execution_count": 3,
     "metadata": {},
     "output_type": "execute_result"
    }
   ],
   "source": [
    "# Import pandas and convert the list to a series \n",
    "import pandas as pd \n",
    "\n",
    "# Convert the numerical grades to a Series.\n",
    "my_grades = pd.Series([92.34, 84.56, 86.78, 78.32])\n",
    "my_grades\n",
    "\n",
    "# we can also chain .map () with .format like so \n",
    "my_grades.map(\"{:.0f}\".format)"
   ]
  },
  {
   "cell_type": "code",
   "execution_count": null,
   "metadata": {},
   "outputs": [],
   "source": []
  }
 ],
 "metadata": {
  "kernelspec": {
   "display_name": "PythonData",
   "language": "python",
   "name": "pythondata"
  },
  "language_info": {
   "codemirror_mode": {
    "name": "ipython",
    "version": 3
   },
   "file_extension": ".py",
   "mimetype": "text/x-python",
   "name": "python",
   "nbconvert_exporter": "python",
   "pygments_lexer": "ipython3",
   "version": "3.7.9"
  }
 },
 "nbformat": 4,
 "nbformat_minor": 4
}
