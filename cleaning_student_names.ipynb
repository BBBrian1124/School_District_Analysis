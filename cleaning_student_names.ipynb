{
 "cells": [
  {
   "cell_type": "code",
   "execution_count": null,
   "metadata": {},
   "outputs": [],
   "source": [
    "# import dependencies\n",
    "import pandas as pd\n",
    "import os \n",
    "\n",
    "# import/read student complete csv file\n",
    "student_data_to_load = os.path.join (\"Resources\", \"students_complete.csv\")\n",
    "\n",
    "# read csv file and convert to dataframe\n",
    "student_data_df = pd.read_csv (student_data_to_load)\n",
    "\n",
    "# the .tolist() function adds the values in the specified column (i.e. student_name) to a list in a seperate file \n",
    "student_names = student_data_df[\"student_name\"].tolist()\n",
    "\n",
    "# because we know the student names should be first and last name and should not have prefixes, we can use split\n",
    "# .split() splits strings based on whitespaces or where there is no text\n",
    "# using the len() function, we can see if the len <> 2 meaning there is info other than first and last name\n",
    "#for name in student_names:\n",
    "    #print(name.split(), len(name.split()))"
   ]
  },
  {
   "cell_type": "code",
   "execution_count": null,
   "metadata": {},
   "outputs": [],
   "source": [
    "# Create a new list and use it for the for loop to iterate through the list.\n",
    "students_to_fix = []\n",
    "\n",
    "# Use an if statement to check the length of the name.\n",
    "# If the name is greater than or equal to \"3\", add the name to the list.\n",
    "\n",
    "for name in student_names:\n",
    "    if len(name.split()) >= 3:\n",
    "        students_to_fix.append(name)\n",
    "\n",
    "#students_to_fix\n",
    "\n",
    "# Get the length of the students whose names are greater than or equal to \"3\".\n",
    "#len(students_to_fix)"
   ]
  },
  {
   "cell_type": "code",
   "execution_count": null,
   "metadata": {},
   "outputs": [],
   "source": [
    "# Add the prefixes less than or equal to 4 since \"miss\" is the largest prefix, to a new list.\n",
    "prefixes = []\n",
    "for name in students_to_fix: # loop through our list of students to fix\n",
    "    if len(name.split()[0]) <= 4: # check if the len of the value in index 0 is <= 4\n",
    "        prefixes.append(name.split()[0]) # if it is then append that value into the first index of the prefixes list\n",
    "\n",
    "print(prefixes)"
   ]
  },
  {
   "cell_type": "code",
   "execution_count": null,
   "metadata": {},
   "outputs": [],
   "source": [
    "# Add the suffixes less than or equal to 3 to a new list since the longest prefix has a length of 3\n",
    "suffixes = []\n",
    "for name in students_to_fix: # loop through our list of names \n",
    "    if len(name.split()[-1]) <= 3: # if the length of the value in the last index (signified by -1) is <= 3\n",
    "        suffixes.append(name.split()[-1]) # then add that value to our suffixes list \n",
    "\n",
    "print(suffixes)"
   ]
  },
  {
   "cell_type": "code",
   "execution_count": null,
   "metadata": {},
   "outputs": [],
   "source": [
    "# Set() returns all unique items in a list, if the list is a string it gets sorted alphabetically\n",
    "set(prefixes)"
   ]
  },
  {
   "cell_type": "code",
   "execution_count": null,
   "metadata": {},
   "outputs": [],
   "source": [
    "set(suffixes)"
   ]
  },
  {
   "cell_type": "code",
   "execution_count": null,
   "metadata": {},
   "outputs": [],
   "source": [
    "# Strip \"Mrs.\" from the student names\n",
    "for name in students_to_fix:\n",
    "    print(name.strip(\"rMs.\"))"
   ]
  },
  {
   "cell_type": "code",
   "execution_count": null,
   "metadata": {},
   "outputs": [],
   "source": [
    "# Replace \"Mr. \" from the student names with \"\"\n",
    "for name in students_to_fix:\n",
    "    print(name.replace(\"Mr. \",\"\"))"
   ]
  },
  {
   "cell_type": "code",
   "execution_count": null,
   "metadata": {},
   "outputs": [],
   "source": [
    "# Add each prefix and suffix to remove to a list.\n",
    "prefixes_suffixes = [\"Dr. \", \"Mr. \",\"Ms. \", \"Mrs. \", \"Miss \", \" MD\", \" DDS\", \" DVM\", \" PhD\"]\n",
    "\n",
    "# Iterate through the \"prefixes_suffixes\" list and replace them with an empty space, \"\" when it appears in the student's name.\n",
    "for word in prefixes_suffixes: # to iterate through the prefixes_suffies list\n",
    "    student_data_df[\"student_name\"] = student_data_df[\"student_name\"].str.replace(word,\"\")\n",
    "    # within the loop, we are getting the value for the key \"student name\" in the student data frame\n",
    "    # we then reassign the the value of the value for the key, after we replace every work in the prefixes_suffies list with \"\"\n",
    "    # because the replace() function only works on strings, we need to convert the 'object' \"student_name\" into a string\n",
    "\n",
    "student_data_df.head(10)"
   ]
  },
  {
   "cell_type": "code",
   "execution_count": null,
   "metadata": {},
   "outputs": [],
   "source": [
    "# Put the cleaned students' names in another list.\n",
    "student_names = student_data_df[\"student_name\"].tolist()\n",
    "student_names"
   ]
  },
  {
   "cell_type": "code",
   "execution_count": null,
   "metadata": {},
   "outputs": [],
   "source": [
    "# Create a new list and use it for the for loop to iterate through the list.\n",
    "students_fixed = []\n",
    "\n",
    "# Use an if statement to check the length of the name.\n",
    "\n",
    "# If the name is greater than or equal to 3, add the name to the list.\n",
    "\n",
    "for name in student_names:\n",
    "    if len(name.split()) >= 3:\n",
    "        students_fixed.append(name)\n",
    "\n",
    "# Get the length of the students' names that are greater than or equal to 3.\n",
    "len(students_fixed)\n",
    "\n",
    "students_fixed"
   ]
  },
  {
   "cell_type": "code",
   "execution_count": null,
   "metadata": {},
   "outputs": [],
   "source": []
  }
 ],
 "metadata": {
  "kernelspec": {
   "display_name": "PythonData",
   "language": "python",
   "name": "pythondata"
  },
  "language_info": {
   "codemirror_mode": {
    "name": "ipython",
    "version": 3
   },
   "file_extension": ".py",
   "mimetype": "text/x-python",
   "name": "python",
   "nbconvert_exporter": "python",
   "pygments_lexer": "ipython3",
   "version": "3.7.9"
  }
 },
 "nbformat": 4,
 "nbformat_minor": 4
}
